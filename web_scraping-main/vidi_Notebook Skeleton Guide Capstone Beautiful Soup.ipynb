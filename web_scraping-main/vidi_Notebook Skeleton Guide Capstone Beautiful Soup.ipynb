{
 "cells": [
  {
   "cell_type": "markdown",
   "metadata": {},
   "source": [
    "# Capstone Webscrapping using BeautifulSoup\n",
    "\n",
    "This notebook contains guidances & tasks on the data processing for the application\n",
    "\n",
    "## background\n",
    "\n",
    "(Please insert the background here )\n",
    "\n",
    "## Requesting the Data and Creating a BeautifulSoup\n",
    "\n",
    "Let's begin with requesting the web from the site with `get` method."
   ]
  },
  {
   "cell_type": "code",
   "execution_count": 1,
   "metadata": {
    "ExecuteTime": {
     "end_time": "2020-01-13T05:12:23.275508Z",
     "start_time": "2020-01-13T05:12:20.009898Z"
    }
   },
   "outputs": [],
   "source": [
    "import requests\n",
    "\n",
    "url_get = requests.get('https://www.exchange-rates.org/history/IDR/USD/T')"
   ]
  },
  {
   "cell_type": "markdown",
   "metadata": {},
   "source": [
    "To visualize what exactly you get from the `request.get`, we can use .content so ee what we exactly get, in here i slice it so it won't make our screen full of the html we get from the page. You can delete the slicing if you want to see what we fully get."
   ]
  },
  {
   "cell_type": "code",
   "execution_count": 2,
   "metadata": {
    "ExecuteTime": {
     "end_time": "2020-01-13T05:12:23.290648Z",
     "start_time": "2020-01-13T05:12:23.277650Z"
    }
   },
   "outputs": [
    {
     "data": {
      "text/plain": [
       "b'!DOCTYPE html>\\r\\n<!--[if lt IE 9]>\\r\\n<html class=\"no-js ie8 oldie\" lang=\"en\" xml:lang=\\'en\\'>\\r\\n<![endif]-->\\r\\n<!--[if gt IE 8]><!--><html class=\"no-js\" lang=\"en\" xml:lang=\\'en\\'><!--<![endif]-->\\r\\n<head>\\r\\n<title>USD to IDR exchange rate history</title>\\r\\n<meta http-equiv=\"X-UA-Compatible\" content=\"IE=edge\">\\r\\n<meta name=\"viewport\" content=\"width=device-width, initial-scale=1, maximum-scale=5\">\\r\\n<meta charset=\"utf-8\" /><meta http-equiv=\"Content-Type\" content=\"text/html; charset=utf-8\" />\\r\\n<base href=\"http'"
      ]
     },
     "execution_count": 2,
     "metadata": {},
     "output_type": "execute_result"
    }
   ],
   "source": [
    "url_get.content[1:500]"
   ]
  },
  {
   "cell_type": "markdown",
   "metadata": {},
   "source": [
    "As we can see we get a very unstructured and complex html, which actually contains the codes needed to show the webpages on your web browser. But we as human still confused what and where we can use that piece of code, so here where we use the beautifulsoup. Beautiful soup class will result a beautifulsoup object. Beautiful Soup transforms a complex HTML document into a complex tree of Python objects. \n",
    "\n",
    "Let's make Beautiful soup object and feel free to explore the object here."
   ]
  },
  {
   "cell_type": "code",
   "execution_count": 3,
   "metadata": {
    "ExecuteTime": {
     "end_time": "2020-01-13T05:12:23.808122Z",
     "start_time": "2020-01-13T05:12:23.292610Z"
    }
   },
   "outputs": [
    {
     "name": "stdout",
     "output_type": "stream",
     "text": [
      "<class 'bs4.BeautifulSoup'>\n"
     ]
    }
   ],
   "source": [
    "from bs4 import BeautifulSoup \n",
    "\n",
    "soup = BeautifulSoup(url_get.content,\"html.parser\")\n",
    "print(type(soup))"
   ]
  },
  {
   "cell_type": "code",
   "execution_count": 4,
   "metadata": {},
   "outputs": [
    {
     "name": "stdout",
     "output_type": "stream",
     "text": [
      "!DOCTYPE html>\n",
      "<!--[if lt IE 9]>\n",
      "<html class=\"no-js ie8 oldie\" lang=\"en\" xml:lang='en'>\n",
      "<![endif]-->\n",
      "<!--[if gt IE 8]><!-->\n",
      "<html class=\"no-js\" lang=\"en\" xml:lang=\"en\">\n",
      " <!--<![endif]-->\n",
      " <head>\n",
      "  <title>\n",
      "   USD to IDR exchange rate history\n",
      "  </title>\n",
      "  <meta content=\"IE=edge\" http-equiv=\"X-UA-Compatible\"/>\n",
      "  <meta content=\"width=device-width, initial-scale=1, maximum-scale=5\" name=\"viewport\"/>\n",
      "  <meta charset=\"utf-8\">\n",
      "   <meta content=\"text/html; charset=utf-8\" http-equiv=\"Content-Type\">\n",
      "   \n"
     ]
    }
   ],
   "source": [
    "print(soup.prettify()[1:500])"
   ]
  },
  {
   "cell_type": "markdown",
   "metadata": {},
   "source": [
    "## Finding the right key to scrap the data & Extracting the right information"
   ]
  },
  {
   "cell_type": "markdown",
   "metadata": {},
   "source": [
    "Find the key and put the key into the `.find()` Put all the exploring the right key at this cell. (please change this markdown with your explanation)"
   ]
  },
  {
   "cell_type": "code",
   "execution_count": 6,
   "metadata": {
    "scrolled": false
   },
   "outputs": [
    {
     "name": "stdout",
     "output_type": "stream",
     "text": [
      "table border=\"0\" cellpadding=\"0\" cellspacing=\"0\" class=\"history-rates-data\">\n",
      " <thead>\n",
      "  <tr>\n",
      "   <th class=\"ltr-bidi-fix\">\n",
      "    Date\n",
      "   </th>\n",
      "   <th class=\"ltr-bidi-fix\">\n",
      "    US Dollar to Indonesian Rupiah\n",
      "   </th>\n",
      "  </tr>\n",
      " </thead>\n",
      " <tbody>\n",
      "  <tr>\n",
      "   <td>\n",
      "    <a class=\"w\" href=\"/exchange-rate-history/usd-idr-2023-08-31\">\n",
      "     August 31, 2023\n",
      "    </a>\n",
      "    <a class=\"n\" href=\"/exchange-rate-history/usd-idr-2023-08-31\">\n",
      "     2023-8-31\n",
      "    </a>\n",
      "   </td>\n",
      "   <td>\n",
      "    <span class=\"w\">\n",
      "     <span class=\"\n"
     ]
    }
   ],
   "source": [
    "table = soup.find('table', attrs={'class': 'history-rates-data'})\n",
    "print(table.prettify()[1:500])"
   ]
  },
  {
   "cell_type": "code",
   "execution_count": 7,
   "metadata": {},
   "outputs": [
    {
     "data": {
      "text/plain": [
       "[<tr>\n",
       " <th class=\"ltr-bidi-fix\">Date</th>\n",
       " <th class=\"ltr-bidi-fix\">US Dollar to Indonesian Rupiah</th>\n",
       " </tr>,\n",
       " <tr>\n",
       " <td>\n",
       " <a class=\"w\" href=\"/exchange-rate-history/usd-idr-2023-08-31\">August 31, 2023</a>\n",
       " <a class=\"n\" href=\"/exchange-rate-history/usd-idr-2023-08-31\">2023-8-31</a>\n",
       " </td>\n",
       " <td>\n",
       " <span class=\"w\"><span class=\"nowrap\"><span class=\"currencySymbol\">$</span>1 =</span> <span class=\"nowrap\"><span class=\"currencySymbol\">Rp</span>15,225</span></span>\n",
       " <span class=\"n\"><span class=\"nowrap\"><span class=\"currencySymbol\">$</span>1 =</span> <span class=\"nowrap\"><span class=\"currencySymbol\">Rp</span>15,225</span></span>\n",
       " </td>\n",
       " </tr>,\n",
       " <tr class=\"odd\">\n",
       " <td>\n",
       " <a class=\"w\" href=\"/exchange-rate-history/usd-idr-2023-08-30\">August 30, 2023</a>\n",
       " <a class=\"n\" href=\"/exchange-rate-history/usd-idr-2023-08-30\">2023-8-30</a>\n",
       " </td>\n",
       " <td>\n",
       " <span class=\"w\"><span class=\"nowrap\"><span class=\"currencySymbol\">$</span>1 =</span> <span class=\"nowrap\"><span class=\"currencySymbol\">Rp</span>15,223</span></span>\n",
       " <span class=\"n\"><span class=\"nowrap\"><span class=\"currencySymbol\">$</span>1 =</span> <span class=\"nowrap\"><span class=\"currencySymbol\">Rp</span>15,223</span></span>\n",
       " </td>\n",
       " </tr>,\n",
       " <tr>\n",
       " <td>\n",
       " <a class=\"w\" href=\"/exchange-rate-history/usd-idr-2023-08-29\">August 29, 2023</a>\n",
       " <a class=\"n\" href=\"/exchange-rate-history/usd-idr-2023-08-29\">2023-8-29</a>\n",
       " </td>\n",
       " <td>\n",
       " <span class=\"w\"><span class=\"nowrap\"><span class=\"currencySymbol\">$</span>1 =</span> <span class=\"nowrap\"><span class=\"currencySymbol\">Rp</span>15,202</span></span>\n",
       " <span class=\"n\"><span class=\"nowrap\"><span class=\"currencySymbol\">$</span>1 =</span> <span class=\"nowrap\"><span class=\"currencySymbol\">Rp</span>15,202</span></span>\n",
       " </td>\n",
       " </tr>,\n",
       " <tr class=\"odd\">\n",
       " <td>\n",
       " <a class=\"w\" href=\"/exchange-rate-history/usd-idr-2023-08-28\">August 28, 2023</a>\n",
       " <a class=\"n\" href=\"/exchange-rate-history/usd-idr-2023-08-28\">2023-8-28</a>\n",
       " </td>\n",
       " <td>\n",
       " <span class=\"w\"><span class=\"nowrap\"><span class=\"currencySymbol\">$</span>1 =</span> <span class=\"nowrap\"><span class=\"currencySymbol\">Rp</span>15,248</span></span>\n",
       " <span class=\"n\"><span class=\"nowrap\"><span class=\"currencySymbol\">$</span>1 =</span> <span class=\"nowrap\"><span class=\"currencySymbol\">Rp</span>15,248</span></span>\n",
       " </td>\n",
       " </tr>]"
      ]
     },
     "execution_count": 7,
     "metadata": {},
     "output_type": "execute_result"
    }
   ],
   "source": [
    "table.find_all('tr')[:5]"
   ]
  },
  {
   "cell_type": "code",
   "execution_count": 8,
   "metadata": {
    "scrolled": true
   },
   "outputs": [
    {
     "data": {
      "text/plain": [
       "[<a class=\"w\" href=\"/exchange-rate-history/usd-idr-2023-08-31\">August 31, 2023</a>,\n",
       " <a class=\"w\" href=\"/exchange-rate-history/usd-idr-2023-08-30\">August 30, 2023</a>,\n",
       " <a class=\"w\" href=\"/exchange-rate-history/usd-idr-2023-08-29\">August 29, 2023</a>,\n",
       " <a class=\"w\" href=\"/exchange-rate-history/usd-idr-2023-08-28\">August 28, 2023</a>,\n",
       " <a class=\"w\" href=\"/exchange-rate-history/usd-idr-2023-08-25\">August 25, 2023</a>]"
      ]
     },
     "execution_count": 8,
     "metadata": {},
     "output_type": "execute_result"
    }
   ],
   "source": [
    "table.find_all('a',attrs={'class':'w'})[:5]"
   ]
  },
  {
   "cell_type": "code",
   "execution_count": 9,
   "metadata": {},
   "outputs": [
    {
     "data": {
      "text/plain": [
       "'August 31, 2023'"
      ]
     },
     "execution_count": 9,
     "metadata": {},
     "output_type": "execute_result"
    }
   ],
   "source": [
    "table.find_all('a',attrs={'class':'w'})[0].text"
   ]
  },
  {
   "cell_type": "code",
   "execution_count": 10,
   "metadata": {},
   "outputs": [
    {
     "data": {
      "text/plain": [
       "'August 30, 2023'"
      ]
     },
     "execution_count": 10,
     "metadata": {},
     "output_type": "execute_result"
    }
   ],
   "source": [
    "table.find_all('a',attrs={'class':'w'})[1].text"
   ]
  },
  {
   "cell_type": "code",
   "execution_count": 17,
   "metadata": {
    "scrolled": true
   },
   "outputs": [
    {
     "data": {
      "text/plain": [
       "[<span class=\"n\"><span class=\"nowrap\"><span class=\"currencySymbol\">$</span>1 =</span> <span class=\"nowrap\"><span class=\"currencySymbol\">Rp</span>15,225</span></span>,\n",
       " <span class=\"n\"><span class=\"nowrap\"><span class=\"currencySymbol\">$</span>1 =</span> <span class=\"nowrap\"><span class=\"currencySymbol\">Rp</span>15,223</span></span>,\n",
       " <span class=\"n\"><span class=\"nowrap\"><span class=\"currencySymbol\">$</span>1 =</span> <span class=\"nowrap\"><span class=\"currencySymbol\">Rp</span>15,202</span></span>,\n",
       " <span class=\"n\"><span class=\"nowrap\"><span class=\"currencySymbol\">$</span>1 =</span> <span class=\"nowrap\"><span class=\"currencySymbol\">Rp</span>15,248</span></span>,\n",
       " <span class=\"n\"><span class=\"nowrap\"><span class=\"currencySymbol\">$</span>1 =</span> <span class=\"nowrap\"><span class=\"currencySymbol\">Rp</span>15,298</span></span>]"
      ]
     },
     "execution_count": 17,
     "metadata": {},
     "output_type": "execute_result"
    }
   ],
   "source": [
    "table.find_all('span',attrs={'class':'n'})[:5]"
   ]
  },
  {
   "cell_type": "code",
   "execution_count": 18,
   "metadata": {},
   "outputs": [
    {
     "data": {
      "text/plain": [
       "'$1 = Rp15,225'"
      ]
     },
     "execution_count": 18,
     "metadata": {},
     "output_type": "execute_result"
    }
   ],
   "source": [
    "table.find_all('span',attrs={'class':'n'})[0].text"
   ]
  },
  {
   "cell_type": "code",
   "execution_count": 19,
   "metadata": {},
   "outputs": [
    {
     "data": {
      "text/plain": [
       "'$1 = Rp15,223'"
      ]
     },
     "execution_count": 19,
     "metadata": {},
     "output_type": "execute_result"
    }
   ],
   "source": [
    "table.find_all('span',attrs={'class':'n'})[1].text"
   ]
  },
  {
   "cell_type": "markdown",
   "metadata": {},
   "source": [
    "Finding row length."
   ]
  },
  {
   "cell_type": "code",
   "execution_count": 14,
   "metadata": {},
   "outputs": [
    {
     "data": {
      "text/plain": [
       "'\\n\\nAugust 31, 2023\\n2023-8-31\\n\\n\\n$1 = Rp15,225\\n$1 = Rp15,225\\n\\n'"
      ]
     },
     "execution_count": 14,
     "metadata": {},
     "output_type": "execute_result"
    }
   ],
   "source": [
    "table.find_all('tr')[1].text"
   ]
  },
  {
   "cell_type": "code",
   "execution_count": 15,
   "metadata": {},
   "outputs": [
    {
     "data": {
      "text/plain": [
       "133"
      ]
     },
     "execution_count": 15,
     "metadata": {},
     "output_type": "execute_result"
    }
   ],
   "source": [
    "row = table.find_all('tr')\n",
    "row_length = len(row)\n",
    "row_length"
   ]
  },
  {
   "cell_type": "markdown",
   "metadata": {},
   "source": [
    "Do the scrapping process here (please change this markdown with your explanation)"
   ]
  },
  {
   "cell_type": "code",
   "execution_count": 29,
   "metadata": {
    "ExecuteTime": {
     "end_time": "2020-01-13T05:12:24.008256Z",
     "start_time": "2020-01-13T05:12:23.980358Z"
    }
   },
   "outputs": [
    {
     "data": {
      "text/plain": [
       "[('August 30, 2023', '$1 = Rp15,223'),\n",
       " ('August 29, 2023', '$1 = Rp15,202'),\n",
       " ('August 28, 2023', '$1 = Rp15,248'),\n",
       " ('August 25, 2023', '$1 = Rp15,298'),\n",
       " ('August 24, 2023', '$1 = Rp15,246'),\n",
       " ('August 23, 2023', '$1 = Rp15,301'),\n",
       " ('August 22, 2023', '$1 = Rp15,324'),\n",
       " ('August 21, 2023', '$1 = Rp15,325'),\n",
       " ('August 18, 2023', '$1 = Rp15,321'),\n",
       " ('August 17, 2023', '$1 = Rp15,343'),\n",
       " ('August 16, 2023', '$1 = Rp15,369'),\n",
       " ('August 15, 2023', '$1 = Rp15,318'),\n",
       " ('August 14, 2023', '$1 = Rp15,330'),\n",
       " ('August 11, 2023', '$1 = Rp15,324'),\n",
       " ('August 10, 2023', '$1 = Rp15,263'),\n",
       " ('August 9, 2023', '$1 = Rp15,214'),\n",
       " ('August 8, 2023', '$1 = Rp15,212'),\n",
       " ('August 7, 2023', '$1 = Rp15,225'),\n",
       " ('August 4, 2023', '$1 = Rp15,153'),\n",
       " ('August 3, 2023', '$1 = Rp15,148'),\n",
       " ('August 2, 2023', '$1 = Rp15,227'),\n",
       " ('August 1, 2023', '$1 = Rp15,121'),\n",
       " ('July 31, 2023', '$1 = Rp15,099'),\n",
       " ('July 28, 2023', '$1 = Rp15,107'),\n",
       " ('July 27, 2023', '$1 = Rp15,102'),\n",
       " ('July 26, 2023', '$1 = Rp15,009'),\n",
       " ('July 25, 2023', '$1 = Rp15,027'),\n",
       " ('July 24, 2023', '$1 = Rp15,022'),\n",
       " ('July 21, 2023', '$1 = Rp15,043'),\n",
       " ('July 20, 2023', '$1 = Rp15,056'),\n",
       " ('July 19, 2023', '$1 = Rp15,009'),\n",
       " ('July 18, 2023', '$1 = Rp14,989'),\n",
       " ('July 17, 2023', '$1 = Rp14,972'),\n",
       " ('July 14, 2023', '$1 = Rp15,003'),\n",
       " ('July 13, 2023', '$1 = Rp14,954'),\n",
       " ('July 12, 2023', '$1 = Rp14,935'),\n",
       " ('July 11, 2023', '$1 = Rp15,140'),\n",
       " ('July 10, 2023', '$1 = Rp15,187'),\n",
       " ('July 7, 2023', '$1 = Rp15,162'),\n",
       " ('July 6, 2023', '$1 = Rp15,178'),\n",
       " ('July 5, 2023', '$1 = Rp15,078'),\n",
       " ('July 4, 2023', '$1 = Rp15,020'),\n",
       " ('July 3, 2023', '$1 = Rp15,063'),\n",
       " ('June 30, 2023', '$1 = Rp15,040'),\n",
       " ('June 29, 2023', '$1 = Rp15,059'),\n",
       " ('June 28, 2023', '$1 = Rp14,985'),\n",
       " ('June 27, 2023', '$1 = Rp14,988'),\n",
       " ('June 26, 2023', '$1 = Rp15,045'),\n",
       " ('June 23, 2023', '$1 = Rp15,045'),\n",
       " ('June 22, 2023', '$1 = Rp14,939'),\n",
       " ('June 21, 2023', '$1 = Rp14,945'),\n",
       " ('June 20, 2023', '$1 = Rp15,015'),\n",
       " ('June 19, 2023', '$1 = Rp15,014'),\n",
       " ('June 16, 2023', '$1 = Rp14,961'),\n",
       " ('June 15, 2023', '$1 = Rp14,903'),\n",
       " ('June 14, 2023', '$1 = Rp14,907'),\n",
       " ('June 13, 2023', '$1 = Rp14,870'),\n",
       " ('June 12, 2023', '$1 = Rp14,872'),\n",
       " ('June 9, 2023', '$1 = Rp14,889'),\n",
       " ('June 8, 2023', '$1 = Rp14,842'),\n",
       " ('June 7, 2023', '$1 = Rp14,889'),\n",
       " ('June 6, 2023', '$1 = Rp14,871'),\n",
       " ('June 5, 2023', '$1 = Rp14,855'),\n",
       " ('June 2, 2023', '$1 = Rp14,902'),\n",
       " ('June 1, 2023', '$1 = Rp14,907'),\n",
       " ('May 31, 2023', '$1 = Rp14,991'),\n",
       " ('May 30, 2023', '$1 = Rp14,983'),\n",
       " ('May 29, 2023', '$1 = Rp14,964'),\n",
       " ('May 26, 2023', '$1 = Rp15,008'),\n",
       " ('May 25, 2023', '$1 = Rp14,968'),\n",
       " ('May 24, 2023', '$1 = Rp14,943'),\n",
       " ('May 23, 2023', '$1 = Rp14,904'),\n",
       " ('May 22, 2023', '$1 = Rp14,893'),\n",
       " ('May 19, 2023', '$1 = Rp14,936'),\n",
       " ('May 18, 2023', '$1 = Rp14,923'),\n",
       " ('May 17, 2023', '$1 = Rp14,853'),\n",
       " ('May 16, 2023', '$1 = Rp14,877'),\n",
       " ('May 15, 2023', '$1 = Rp14,789'),\n",
       " ('May 12, 2023', '$1 = Rp14,844'),\n",
       " ('May 11, 2023', '$1 = Rp14,776'),\n",
       " ('May 10, 2023', '$1 = Rp14,698'),\n",
       " ('May 9, 2023', '$1 = Rp14,776'),\n",
       " ('May 8, 2023', '$1 = Rp14,744'),\n",
       " ('May 5, 2023', '$1 = Rp14,675'),\n",
       " ('May 4, 2023', '$1 = Rp14,699'),\n",
       " ('May 3, 2023', '$1 = Rp14,680'),\n",
       " ('May 2, 2023', '$1 = Rp14,747'),\n",
       " ('May 1, 2023', '$1 = Rp14,677'),\n",
       " ('April 28, 2023', '$1 = Rp14,674'),\n",
       " ('April 27, 2023', '$1 = Rp14,691'),\n",
       " ('April 26, 2023', '$1 = Rp14,841'),\n",
       " ('April 25, 2023', '$1 = Rp14,940'),\n",
       " ('April 24, 2023', '$1 = Rp14,934'),\n",
       " ('April 21, 2023', '$1 = Rp14,936'),\n",
       " ('April 20, 2023', '$1 = Rp14,954'),\n",
       " ('April 19, 2023', '$1 = Rp14,995'),\n",
       " ('April 18, 2023', '$1 = Rp14,889'),\n",
       " ('April 17, 2023', '$1 = Rp14,850'),\n",
       " ('April 14, 2023', '$1 = Rp14,782'),\n",
       " ('April 13, 2023', '$1 = Rp14,722'),\n",
       " ('April 12, 2023', '$1 = Rp14,835'),\n",
       " ('April 11, 2023', '$1 = Rp14,915'),\n",
       " ('April 10, 2023', '$1 = Rp14,950'),\n",
       " ('April 7, 2023', '$1 = Rp14,941'),\n",
       " ('April 6, 2023', '$1 = Rp14,931'),\n",
       " ('April 5, 2023', '$1 = Rp14,960'),\n",
       " ('April 4, 2023', '$1 = Rp14,957'),\n",
       " ('April 3, 2023', '$1 = Rp14,922'),\n",
       " ('March 31, 2023', '$1 = Rp14,969'),\n",
       " ('March 30, 2023', '$1 = Rp15,024'),\n",
       " ('March 29, 2023', '$1 = Rp15,034'),\n",
       " ('March 28, 2023', '$1 = Rp15,060'),\n",
       " ('March 27, 2023', '$1 = Rp15,107'),\n",
       " ('March 24, 2023', '$1 = Rp15,165'),\n",
       " ('March 23, 2023', '$1 = Rp15,085'),\n",
       " ('March 22, 2023', '$1 = Rp15,253'),\n",
       " ('March 21, 2023', '$1 = Rp15,301'),\n",
       " ('March 20, 2023', '$1 = Rp15,343'),\n",
       " ('March 17, 2023', '$1 = Rp15,375'),\n",
       " ('March 16, 2023', '$1 = Rp15,429'),\n",
       " ('March 15, 2023', '$1 = Rp15,459'),\n",
       " ('March 14, 2023', '$1 = Rp15,380'),\n",
       " ('March 13, 2023', '$1 = Rp15,416'),\n",
       " ('March 10, 2023', '$1 = Rp15,503'),\n",
       " ('March 9, 2023', '$1 = Rp15,495'),\n",
       " ('March 8, 2023', '$1 = Rp15,449'),\n",
       " ('March 7, 2023', '$1 = Rp15,429'),\n",
       " ('March 6, 2023', '$1 = Rp15,354')]"
      ]
     },
     "execution_count": 29,
     "metadata": {},
     "output_type": "execute_result"
    }
   ],
   "source": [
    "temp = [] #initiating a tuple\n",
    "\n",
    "for i in range(1, row_length-4):\n",
    "\n",
    "    #scrapping process\n",
    "    #get date\n",
    "    date = table.find_all('a', attrs={'class': 'w'})[i].text\n",
    "    #get currency\n",
    "    currency = table.find_all('span', attrs={'class':'n'})[i].text\n",
    "    \n",
    "    temp.append((date, currency))\n",
    "temp "
   ]
  },
  {
   "cell_type": "code",
   "execution_count": 42,
   "metadata": {},
   "outputs": [
    {
     "data": {
      "text/plain": [
       "[('August 30, 2023', '$1 = Rp15,223'),\n",
       " ('August 29, 2023', '$1 = Rp15,202'),\n",
       " ('August 28, 2023', '$1 = Rp15,248'),\n",
       " ('August 25, 2023', '$1 = Rp15,298'),\n",
       " ('August 24, 2023', '$1 = Rp15,246'),\n",
       " ('August 23, 2023', '$1 = Rp15,301'),\n",
       " ('August 22, 2023', '$1 = Rp15,324'),\n",
       " ('August 21, 2023', '$1 = Rp15,325'),\n",
       " ('August 18, 2023', '$1 = Rp15,321'),\n",
       " ('August 17, 2023', '$1 = Rp15,343'),\n",
       " ('August 16, 2023', '$1 = Rp15,369'),\n",
       " ('August 15, 2023', '$1 = Rp15,318'),\n",
       " ('August 14, 2023', '$1 = Rp15,330'),\n",
       " ('August 11, 2023', '$1 = Rp15,324'),\n",
       " ('August 10, 2023', '$1 = Rp15,263'),\n",
       " ('August 9, 2023', '$1 = Rp15,214'),\n",
       " ('August 8, 2023', '$1 = Rp15,212'),\n",
       " ('August 7, 2023', '$1 = Rp15,225'),\n",
       " ('August 4, 2023', '$1 = Rp15,153'),\n",
       " ('August 3, 2023', '$1 = Rp15,148'),\n",
       " ('August 2, 2023', '$1 = Rp15,227'),\n",
       " ('August 1, 2023', '$1 = Rp15,121'),\n",
       " ('July 31, 2023', '$1 = Rp15,099'),\n",
       " ('July 28, 2023', '$1 = Rp15,107'),\n",
       " ('July 27, 2023', '$1 = Rp15,102'),\n",
       " ('July 26, 2023', '$1 = Rp15,009'),\n",
       " ('July 25, 2023', '$1 = Rp15,027'),\n",
       " ('July 24, 2023', '$1 = Rp15,022'),\n",
       " ('July 21, 2023', '$1 = Rp15,043'),\n",
       " ('July 20, 2023', '$1 = Rp15,056'),\n",
       " ('July 19, 2023', '$1 = Rp15,009'),\n",
       " ('July 18, 2023', '$1 = Rp14,989'),\n",
       " ('July 17, 2023', '$1 = Rp14,972'),\n",
       " ('July 14, 2023', '$1 = Rp15,003'),\n",
       " ('July 13, 2023', '$1 = Rp14,954'),\n",
       " ('July 12, 2023', '$1 = Rp14,935'),\n",
       " ('July 11, 2023', '$1 = Rp15,140'),\n",
       " ('July 10, 2023', '$1 = Rp15,187'),\n",
       " ('July 7, 2023', '$1 = Rp15,162'),\n",
       " ('July 6, 2023', '$1 = Rp15,178'),\n",
       " ('July 5, 2023', '$1 = Rp15,078'),\n",
       " ('July 4, 2023', '$1 = Rp15,020'),\n",
       " ('July 3, 2023', '$1 = Rp15,063'),\n",
       " ('June 30, 2023', '$1 = Rp15,040'),\n",
       " ('June 29, 2023', '$1 = Rp15,059'),\n",
       " ('June 28, 2023', '$1 = Rp14,985'),\n",
       " ('June 27, 2023', '$1 = Rp14,988'),\n",
       " ('June 26, 2023', '$1 = Rp15,045'),\n",
       " ('June 23, 2023', '$1 = Rp15,045'),\n",
       " ('June 22, 2023', '$1 = Rp14,939'),\n",
       " ('June 21, 2023', '$1 = Rp14,945'),\n",
       " ('June 20, 2023', '$1 = Rp15,015'),\n",
       " ('June 19, 2023', '$1 = Rp15,014'),\n",
       " ('June 16, 2023', '$1 = Rp14,961'),\n",
       " ('June 15, 2023', '$1 = Rp14,903'),\n",
       " ('June 14, 2023', '$1 = Rp14,907'),\n",
       " ('June 13, 2023', '$1 = Rp14,870'),\n",
       " ('June 12, 2023', '$1 = Rp14,872'),\n",
       " ('June 9, 2023', '$1 = Rp14,889'),\n",
       " ('June 8, 2023', '$1 = Rp14,842'),\n",
       " ('June 7, 2023', '$1 = Rp14,889'),\n",
       " ('June 6, 2023', '$1 = Rp14,871'),\n",
       " ('June 5, 2023', '$1 = Rp14,855'),\n",
       " ('June 2, 2023', '$1 = Rp14,902'),\n",
       " ('June 1, 2023', '$1 = Rp14,907'),\n",
       " ('May 31, 2023', '$1 = Rp14,991'),\n",
       " ('May 30, 2023', '$1 = Rp14,983'),\n",
       " ('May 29, 2023', '$1 = Rp14,964'),\n",
       " ('May 26, 2023', '$1 = Rp15,008'),\n",
       " ('May 25, 2023', '$1 = Rp14,968'),\n",
       " ('May 24, 2023', '$1 = Rp14,943'),\n",
       " ('May 23, 2023', '$1 = Rp14,904'),\n",
       " ('May 22, 2023', '$1 = Rp14,893'),\n",
       " ('May 19, 2023', '$1 = Rp14,936'),\n",
       " ('May 18, 2023', '$1 = Rp14,923'),\n",
       " ('May 17, 2023', '$1 = Rp14,853'),\n",
       " ('May 16, 2023', '$1 = Rp14,877'),\n",
       " ('May 15, 2023', '$1 = Rp14,789'),\n",
       " ('May 12, 2023', '$1 = Rp14,844'),\n",
       " ('May 11, 2023', '$1 = Rp14,776'),\n",
       " ('May 10, 2023', '$1 = Rp14,698'),\n",
       " ('May 9, 2023', '$1 = Rp14,776'),\n",
       " ('May 8, 2023', '$1 = Rp14,744'),\n",
       " ('May 5, 2023', '$1 = Rp14,675'),\n",
       " ('May 4, 2023', '$1 = Rp14,699'),\n",
       " ('May 3, 2023', '$1 = Rp14,680'),\n",
       " ('May 2, 2023', '$1 = Rp14,747'),\n",
       " ('May 1, 2023', '$1 = Rp14,677'),\n",
       " ('April 28, 2023', '$1 = Rp14,674'),\n",
       " ('April 27, 2023', '$1 = Rp14,691'),\n",
       " ('April 26, 2023', '$1 = Rp14,841'),\n",
       " ('April 25, 2023', '$1 = Rp14,940'),\n",
       " ('April 24, 2023', '$1 = Rp14,934'),\n",
       " ('April 21, 2023', '$1 = Rp14,936'),\n",
       " ('April 20, 2023', '$1 = Rp14,954'),\n",
       " ('April 19, 2023', '$1 = Rp14,995'),\n",
       " ('April 18, 2023', '$1 = Rp14,889'),\n",
       " ('April 17, 2023', '$1 = Rp14,850'),\n",
       " ('April 14, 2023', '$1 = Rp14,782'),\n",
       " ('April 13, 2023', '$1 = Rp14,722'),\n",
       " ('April 12, 2023', '$1 = Rp14,835'),\n",
       " ('April 11, 2023', '$1 = Rp14,915'),\n",
       " ('April 10, 2023', '$1 = Rp14,950'),\n",
       " ('April 7, 2023', '$1 = Rp14,941'),\n",
       " ('April 6, 2023', '$1 = Rp14,931'),\n",
       " ('April 5, 2023', '$1 = Rp14,960'),\n",
       " ('April 4, 2023', '$1 = Rp14,957'),\n",
       " ('April 3, 2023', '$1 = Rp14,922'),\n",
       " ('March 31, 2023', '$1 = Rp14,969'),\n",
       " ('March 30, 2023', '$1 = Rp15,024'),\n",
       " ('March 29, 2023', '$1 = Rp15,034'),\n",
       " ('March 28, 2023', '$1 = Rp15,060'),\n",
       " ('March 27, 2023', '$1 = Rp15,107'),\n",
       " ('March 24, 2023', '$1 = Rp15,165'),\n",
       " ('March 23, 2023', '$1 = Rp15,085'),\n",
       " ('March 22, 2023', '$1 = Rp15,253'),\n",
       " ('March 21, 2023', '$1 = Rp15,301'),\n",
       " ('March 20, 2023', '$1 = Rp15,343'),\n",
       " ('March 17, 2023', '$1 = Rp15,375'),\n",
       " ('March 16, 2023', '$1 = Rp15,429'),\n",
       " ('March 15, 2023', '$1 = Rp15,459'),\n",
       " ('March 14, 2023', '$1 = Rp15,380'),\n",
       " ('March 13, 2023', '$1 = Rp15,416'),\n",
       " ('March 10, 2023', '$1 = Rp15,503'),\n",
       " ('March 9, 2023', '$1 = Rp15,495'),\n",
       " ('March 8, 2023', '$1 = Rp15,449'),\n",
       " ('March 7, 2023', '$1 = Rp15,429'),\n",
       " ('March 6, 2023', '$1 = Rp15,354')]"
      ]
     },
     "execution_count": 42,
     "metadata": {},
     "output_type": "execute_result"
    }
   ],
   "source": [
    "temp = temp[::-1]\n",
    "temp"
   ]
  },
  {
   "cell_type": "markdown",
   "metadata": {},
   "source": [
    "## Creating data frame & Data wrangling"
   ]
  },
  {
   "cell_type": "markdown",
   "metadata": {},
   "source": [
    "Put the array into dataframe"
   ]
  },
  {
   "cell_type": "code",
   "execution_count": 25,
   "metadata": {
    "ExecuteTime": {
     "end_time": "2020-01-13T05:12:41.517372Z",
     "start_time": "2020-01-13T05:12:29.130015Z"
    }
   },
   "outputs": [
    {
     "data": {
      "text/html": [
       "<div>\n",
       "<style scoped>\n",
       "    .dataframe tbody tr th:only-of-type {\n",
       "        vertical-align: middle;\n",
       "    }\n",
       "\n",
       "    .dataframe tbody tr th {\n",
       "        vertical-align: top;\n",
       "    }\n",
       "\n",
       "    .dataframe thead th {\n",
       "        text-align: right;\n",
       "    }\n",
       "</style>\n",
       "<table border=\"1\" class=\"dataframe\">\n",
       "  <thead>\n",
       "    <tr style=\"text-align: right;\">\n",
       "      <th></th>\n",
       "      <th>date</th>\n",
       "      <th>currency</th>\n",
       "    </tr>\n",
       "  </thead>\n",
       "  <tbody>\n",
       "    <tr>\n",
       "      <th>0</th>\n",
       "      <td>August 30, 2023</td>\n",
       "      <td>$1 = Rp15,223</td>\n",
       "    </tr>\n",
       "    <tr>\n",
       "      <th>1</th>\n",
       "      <td>August 29, 2023</td>\n",
       "      <td>$1 = Rp15,202</td>\n",
       "    </tr>\n",
       "    <tr>\n",
       "      <th>2</th>\n",
       "      <td>August 28, 2023</td>\n",
       "      <td>$1 = Rp15,248</td>\n",
       "    </tr>\n",
       "    <tr>\n",
       "      <th>3</th>\n",
       "      <td>August 25, 2023</td>\n",
       "      <td>$1 = Rp15,298</td>\n",
       "    </tr>\n",
       "    <tr>\n",
       "      <th>4</th>\n",
       "      <td>August 24, 2023</td>\n",
       "      <td>$1 = Rp15,246</td>\n",
       "    </tr>\n",
       "  </tbody>\n",
       "</table>\n",
       "</div>"
      ],
      "text/plain": [
       "              date       currency\n",
       "0  August 30, 2023  $1 = Rp15,223\n",
       "1  August 29, 2023  $1 = Rp15,202\n",
       "2  August 28, 2023  $1 = Rp15,248\n",
       "3  August 25, 2023  $1 = Rp15,298\n",
       "4  August 24, 2023  $1 = Rp15,246"
      ]
     },
     "execution_count": 25,
     "metadata": {},
     "output_type": "execute_result"
    }
   ],
   "source": [
    "import pandas as pd\n",
    "\n",
    "df = pd.DataFrame(temp,columns =('date','currency'))\n",
    "df.head()"
   ]
  },
  {
   "cell_type": "markdown",
   "metadata": {},
   "source": [
    "Do the data cleaning here (please change this markdown with your explanation of what you do for data wrangling)"
   ]
  },
  {
   "cell_type": "code",
   "execution_count": 26,
   "metadata": {
    "ExecuteTime": {
     "end_time": "2020-01-13T05:12:59.165559Z",
     "start_time": "2020-01-13T05:12:58.910012Z"
    }
   },
   "outputs": [
    {
     "data": {
      "text/plain": [
       "date        object\n",
       "currency    object\n",
       "dtype: object"
      ]
     },
     "execution_count": 26,
     "metadata": {},
     "output_type": "execute_result"
    }
   ],
   "source": [
    "#memeriksa jenis data\n",
    "df.dtypes"
   ]
  },
  {
   "cell_type": "code",
   "execution_count": 33,
   "metadata": {
    "scrolled": true
   },
   "outputs": [
    {
     "data": {
      "text/plain": [
       "date        datetime64[ns]\n",
       "currency             int64\n",
       "dtype: object"
      ]
     },
     "execution_count": 33,
     "metadata": {},
     "output_type": "execute_result"
    }
   ],
   "source": [
    "#mengubah jenis data date dan currency\n",
    "df['date'] = pd.to_datetime(df['date'])\n",
    "df['currency'] = df['currency'].str.extract('(\\d+),(\\d+)').apply(lambda x: int(x[0] + x[1]), axis=1)\n",
    "df.dtypes"
   ]
  },
  {
   "cell_type": "code",
   "execution_count": 35,
   "metadata": {},
   "outputs": [],
   "source": [
    "df = df.set_index('date')"
   ]
  },
  {
   "cell_type": "markdown",
   "metadata": {},
   "source": [
    "Data visualisation (please change this markdown with your explanation of what you do for data wrangling)"
   ]
  },
  {
   "cell_type": "code",
   "execution_count": 39,
   "metadata": {},
   "outputs": [
    {
     "data": {
      "text/plain": [
       "<Axes: xlabel='date'>"
      ]
     },
     "execution_count": 39,
     "metadata": {},
     "output_type": "execute_result"
    },
    {
     "data": {
      "image/png": "[encoded data removed]",
      "text/plain": [
       "<Figure size 640x480 with 1 Axes>"
      ]
     },
     "metadata": {},
     "output_type": "display_data"
    }
   ],
   "source": [
    "df.plot(kind='line')"
   ]
  },
  {
   "cell_type": "markdown",
   "metadata": {},
   "source": [
    "### Implementing your webscrapping to the flask dashboard\n",
    "\n",
    "- Copy paste all of your web scrapping process to the desired position on the `app.py`\n",
    "- Changing the title of the dasboard at `index.html`"
   ]
  },
  {
   "cell_type": "markdown",
   "metadata": {},
   "source": [
    "## Finishing This Notebook with Your Analysis and Conclusion\n",
    "\n",
    "First you can do start with making the data visualisation. "
   ]
  },
  {
   "cell_type": "code",
   "execution_count": 40,
   "metadata": {},
   "outputs": [
    {
     "data": {
      "text/plain": [
       "<Axes: xlabel='date'>"
      ]
     },
     "execution_count": 40,
     "metadata": {},
     "output_type": "execute_result"
    },
    {
     "data": {
      "image/png": "[encoded data removed]",
      "text/plain": [
       "<Figure size 640x480 with 1 Axes>"
      ]
     },
     "metadata": {},
     "output_type": "display_data"
    }
   ],
   "source": [
    "df.plot(kind='line')"
   ]
  },
  {
   "cell_type": "markdown",
   "metadata": {
    "ExecuteTime": {
     "end_time": "2020-01-13T05:20:56.208237Z",
     "start_time": "2020-01-13T05:20:56.076043Z"
    }
   },
   "source": [
    "Grafik garis di atas menunjukkan fluktuasi nilai tukar mata uang Rupiah pada US Dollar selama satu semester dari tanggal 15 Juni 2023 hingga 1 September 2023. Nilai tukar mata uang berkisar antara sekitar Rp.14900 hingga Rp.15300. Secara keseluruhan terdapat fluktuasi dalam nilai mata uang US Dollar. Nilai mata Rupiah sempat mengalami penguatan signifikan pada bulan Juli menyentuh di bawah angka 15.000. Sayangnya, setelah bulan juli, nilai Rupiah cenderung melemah dalam tiga bulan selanjutknya. Dengan kata lain, grafik tersebut menunjukkan bahwa nilai tukar mata uang Rupiah berada dalam kisaran di atas 15.000 selama enam bulan terakhir.  "
   ]
  },
  {
   "cell_type": "markdown",
   "metadata": {},
   "source": [
    "\n",
    "(Put your analysis and conclusion here.)"
   ]
  },
  {
   "cell_type": "markdown",
   "metadata": {},
   "source": [
    "### Implement it at the webapps\n",
    "\n",
    "- You can create additional analysis from the data.\n",
    "- Implement it to the dashboard with at `app.py` dan `index.html`."
   ]
  }
 ],
 "metadata": {
  "kernelspec": {
   "display_name": "mywebscrap",
   "language": "python",
   "name": "mywebscrap"
  },
  "language_info": {
   "codemirror_mode": {
    "name": "ipython",
    "version": 3
   },
   "file_extension": ".py",
   "mimetype": "text/x-python",
   "name": "python",
   "nbconvert_exporter": "python",
   "pygments_lexer": "ipython3",
   "version": "3.10.12"
  }
 },
 "nbformat": 4,
 "nbformat_minor": 2
}
